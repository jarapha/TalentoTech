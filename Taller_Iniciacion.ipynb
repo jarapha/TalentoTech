{
  "nbformat": 4,
  "nbformat_minor": 0,
  "metadata": {
    "colab": {
      "provenance": [],
      "mount_file_id": "13Cl63VEtOvsCn0nmCqx-1Ng47aaNdeCW",
      "authorship_tag": "ABX9TyMGhhRgezKX2IpkZn7Mbq1t",
      "include_colab_link": true
    },
    "kernelspec": {
      "name": "python3",
      "display_name": "Python 3"
    },
    "language_info": {
      "name": "python"
    }
  },
  "cells": [
    {
      "cell_type": "markdown",
      "metadata": {
        "id": "view-in-github",
        "colab_type": "text"
      },
      "source": [
        "<a href=\"https://colab.research.google.com/github/jarapha/TalentoTech/blob/main/Taller_Iniciacion.ipynb\" target=\"_parent\"><img src=\"https://colab.research.google.com/assets/colab-badge.svg\" alt=\"Open In Colab\"/></a>"
      ]
    },
    {
      "cell_type": "code",
      "source": [
        "import pandas as pd\n"
      ],
      "metadata": {
        "id": "x-Nc3VAf29eJ"
      },
      "execution_count": 2,
      "outputs": []
    },
    {
      "cell_type": "code",
      "source": [
        "df_ventas = pd.read_excel('/content/example_ventas.xlsx')\n"
      ],
      "metadata": {
        "id": "4nfOfLxq3Ctb"
      },
      "execution_count": 4,
      "outputs": []
    },
    {
      "cell_type": "code",
      "source": [
        "df_ventas.head()"
      ],
      "metadata": {
        "colab": {
          "base_uri": "https://localhost:8080/",
          "height": 206
        },
        "id": "Z7R5Lm8D3US6",
        "outputId": "0b0e1204-cec8-43eb-bf0b-e1f4cb672e07"
      },
      "execution_count": null,
      "outputs": [
        {
          "output_type": "execute_result",
          "data": {
            "text/plain": [
              "       Fecha   Region      Producto Vendedor  Ventas\n",
              "0 2024-01-31  Central    Accesorios    David    8287\n",
              "1 2024-02-01  Central    Accesorios    Karen    6909\n",
              "2 2024-02-02  Central  Dispositivos    David   11420\n",
              "3 2024-02-03  Central  Dispositivos    Karen   12948\n",
              "4 2024-02-04  Central      Sistemas    David   20098"
            ],
            "text/html": [
              "\n",
              "  <div id=\"df-846da41f-dbb6-4fce-a620-116a769fe3ff\" class=\"colab-df-container\">\n",
              "    <div>\n",
              "<style scoped>\n",
              "    .dataframe tbody tr th:only-of-type {\n",
              "        vertical-align: middle;\n",
              "    }\n",
              "\n",
              "    .dataframe tbody tr th {\n",
              "        vertical-align: top;\n",
              "    }\n",
              "\n",
              "    .dataframe thead th {\n",
              "        text-align: right;\n",
              "    }\n",
              "</style>\n",
              "<table border=\"1\" class=\"dataframe\">\n",
              "  <thead>\n",
              "    <tr style=\"text-align: right;\">\n",
              "      <th></th>\n",
              "      <th>Fecha</th>\n",
              "      <th>Region</th>\n",
              "      <th>Producto</th>\n",
              "      <th>Vendedor</th>\n",
              "      <th>Ventas</th>\n",
              "    </tr>\n",
              "  </thead>\n",
              "  <tbody>\n",
              "    <tr>\n",
              "      <th>0</th>\n",
              "      <td>2024-01-31</td>\n",
              "      <td>Central</td>\n",
              "      <td>Accesorios</td>\n",
              "      <td>David</td>\n",
              "      <td>8287</td>\n",
              "    </tr>\n",
              "    <tr>\n",
              "      <th>1</th>\n",
              "      <td>2024-02-01</td>\n",
              "      <td>Central</td>\n",
              "      <td>Accesorios</td>\n",
              "      <td>Karen</td>\n",
              "      <td>6909</td>\n",
              "    </tr>\n",
              "    <tr>\n",
              "      <th>2</th>\n",
              "      <td>2024-02-02</td>\n",
              "      <td>Central</td>\n",
              "      <td>Dispositivos</td>\n",
              "      <td>David</td>\n",
              "      <td>11420</td>\n",
              "    </tr>\n",
              "    <tr>\n",
              "      <th>3</th>\n",
              "      <td>2024-02-03</td>\n",
              "      <td>Central</td>\n",
              "      <td>Dispositivos</td>\n",
              "      <td>Karen</td>\n",
              "      <td>12948</td>\n",
              "    </tr>\n",
              "    <tr>\n",
              "      <th>4</th>\n",
              "      <td>2024-02-04</td>\n",
              "      <td>Central</td>\n",
              "      <td>Sistemas</td>\n",
              "      <td>David</td>\n",
              "      <td>20098</td>\n",
              "    </tr>\n",
              "  </tbody>\n",
              "</table>\n",
              "</div>\n",
              "    <div class=\"colab-df-buttons\">\n",
              "\n",
              "  <div class=\"colab-df-container\">\n",
              "    <button class=\"colab-df-convert\" onclick=\"convertToInteractive('df-846da41f-dbb6-4fce-a620-116a769fe3ff')\"\n",
              "            title=\"Convert this dataframe to an interactive table.\"\n",
              "            style=\"display:none;\">\n",
              "\n",
              "  <svg xmlns=\"http://www.w3.org/2000/svg\" height=\"24px\" viewBox=\"0 -960 960 960\">\n",
              "    <path d=\"M120-120v-720h720v720H120Zm60-500h600v-160H180v160Zm220 220h160v-160H400v160Zm0 220h160v-160H400v160ZM180-400h160v-160H180v160Zm440 0h160v-160H620v160ZM180-180h160v-160H180v160Zm440 0h160v-160H620v160Z\"/>\n",
              "  </svg>\n",
              "    </button>\n",
              "\n",
              "  <style>\n",
              "    .colab-df-container {\n",
              "      display:flex;\n",
              "      gap: 12px;\n",
              "    }\n",
              "\n",
              "    .colab-df-convert {\n",
              "      background-color: #E8F0FE;\n",
              "      border: none;\n",
              "      border-radius: 50%;\n",
              "      cursor: pointer;\n",
              "      display: none;\n",
              "      fill: #1967D2;\n",
              "      height: 32px;\n",
              "      padding: 0 0 0 0;\n",
              "      width: 32px;\n",
              "    }\n",
              "\n",
              "    .colab-df-convert:hover {\n",
              "      background-color: #E2EBFA;\n",
              "      box-shadow: 0px 1px 2px rgba(60, 64, 67, 0.3), 0px 1px 3px 1px rgba(60, 64, 67, 0.15);\n",
              "      fill: #174EA6;\n",
              "    }\n",
              "\n",
              "    .colab-df-buttons div {\n",
              "      margin-bottom: 4px;\n",
              "    }\n",
              "\n",
              "    [theme=dark] .colab-df-convert {\n",
              "      background-color: #3B4455;\n",
              "      fill: #D2E3FC;\n",
              "    }\n",
              "\n",
              "    [theme=dark] .colab-df-convert:hover {\n",
              "      background-color: #434B5C;\n",
              "      box-shadow: 0px 1px 3px 1px rgba(0, 0, 0, 0.15);\n",
              "      filter: drop-shadow(0px 1px 2px rgba(0, 0, 0, 0.3));\n",
              "      fill: #FFFFFF;\n",
              "    }\n",
              "  </style>\n",
              "\n",
              "    <script>\n",
              "      const buttonEl =\n",
              "        document.querySelector('#df-846da41f-dbb6-4fce-a620-116a769fe3ff button.colab-df-convert');\n",
              "      buttonEl.style.display =\n",
              "        google.colab.kernel.accessAllowed ? 'block' : 'none';\n",
              "\n",
              "      async function convertToInteractive(key) {\n",
              "        const element = document.querySelector('#df-846da41f-dbb6-4fce-a620-116a769fe3ff');\n",
              "        const dataTable =\n",
              "          await google.colab.kernel.invokeFunction('convertToInteractive',\n",
              "                                                    [key], {});\n",
              "        if (!dataTable) return;\n",
              "\n",
              "        const docLinkHtml = 'Like what you see? Visit the ' +\n",
              "          '<a target=\"_blank\" href=https://colab.research.google.com/notebooks/data_table.ipynb>data table notebook</a>'\n",
              "          + ' to learn more about interactive tables.';\n",
              "        element.innerHTML = '';\n",
              "        dataTable['output_type'] = 'display_data';\n",
              "        await google.colab.output.renderOutput(dataTable, element);\n",
              "        const docLink = document.createElement('div');\n",
              "        docLink.innerHTML = docLinkHtml;\n",
              "        element.appendChild(docLink);\n",
              "      }\n",
              "    </script>\n",
              "  </div>\n",
              "\n",
              "\n",
              "<div id=\"df-e797d8b0-7f83-43f9-9bac-080d5cfd3e5f\">\n",
              "  <button class=\"colab-df-quickchart\" onclick=\"quickchart('df-e797d8b0-7f83-43f9-9bac-080d5cfd3e5f')\"\n",
              "            title=\"Suggest charts\"\n",
              "            style=\"display:none;\">\n",
              "\n",
              "<svg xmlns=\"http://www.w3.org/2000/svg\" height=\"24px\"viewBox=\"0 0 24 24\"\n",
              "     width=\"24px\">\n",
              "    <g>\n",
              "        <path d=\"M19 3H5c-1.1 0-2 .9-2 2v14c0 1.1.9 2 2 2h14c1.1 0 2-.9 2-2V5c0-1.1-.9-2-2-2zM9 17H7v-7h2v7zm4 0h-2V7h2v10zm4 0h-2v-4h2v4z\"/>\n",
              "    </g>\n",
              "</svg>\n",
              "  </button>\n",
              "\n",
              "<style>\n",
              "  .colab-df-quickchart {\n",
              "      --bg-color: #E8F0FE;\n",
              "      --fill-color: #1967D2;\n",
              "      --hover-bg-color: #E2EBFA;\n",
              "      --hover-fill-color: #174EA6;\n",
              "      --disabled-fill-color: #AAA;\n",
              "      --disabled-bg-color: #DDD;\n",
              "  }\n",
              "\n",
              "  [theme=dark] .colab-df-quickchart {\n",
              "      --bg-color: #3B4455;\n",
              "      --fill-color: #D2E3FC;\n",
              "      --hover-bg-color: #434B5C;\n",
              "      --hover-fill-color: #FFFFFF;\n",
              "      --disabled-bg-color: #3B4455;\n",
              "      --disabled-fill-color: #666;\n",
              "  }\n",
              "\n",
              "  .colab-df-quickchart {\n",
              "    background-color: var(--bg-color);\n",
              "    border: none;\n",
              "    border-radius: 50%;\n",
              "    cursor: pointer;\n",
              "    display: none;\n",
              "    fill: var(--fill-color);\n",
              "    height: 32px;\n",
              "    padding: 0;\n",
              "    width: 32px;\n",
              "  }\n",
              "\n",
              "  .colab-df-quickchart:hover {\n",
              "    background-color: var(--hover-bg-color);\n",
              "    box-shadow: 0 1px 2px rgba(60, 64, 67, 0.3), 0 1px 3px 1px rgba(60, 64, 67, 0.15);\n",
              "    fill: var(--button-hover-fill-color);\n",
              "  }\n",
              "\n",
              "  .colab-df-quickchart-complete:disabled,\n",
              "  .colab-df-quickchart-complete:disabled:hover {\n",
              "    background-color: var(--disabled-bg-color);\n",
              "    fill: var(--disabled-fill-color);\n",
              "    box-shadow: none;\n",
              "  }\n",
              "\n",
              "  .colab-df-spinner {\n",
              "    border: 2px solid var(--fill-color);\n",
              "    border-color: transparent;\n",
              "    border-bottom-color: var(--fill-color);\n",
              "    animation:\n",
              "      spin 1s steps(1) infinite;\n",
              "  }\n",
              "\n",
              "  @keyframes spin {\n",
              "    0% {\n",
              "      border-color: transparent;\n",
              "      border-bottom-color: var(--fill-color);\n",
              "      border-left-color: var(--fill-color);\n",
              "    }\n",
              "    20% {\n",
              "      border-color: transparent;\n",
              "      border-left-color: var(--fill-color);\n",
              "      border-top-color: var(--fill-color);\n",
              "    }\n",
              "    30% {\n",
              "      border-color: transparent;\n",
              "      border-left-color: var(--fill-color);\n",
              "      border-top-color: var(--fill-color);\n",
              "      border-right-color: var(--fill-color);\n",
              "    }\n",
              "    40% {\n",
              "      border-color: transparent;\n",
              "      border-right-color: var(--fill-color);\n",
              "      border-top-color: var(--fill-color);\n",
              "    }\n",
              "    60% {\n",
              "      border-color: transparent;\n",
              "      border-right-color: var(--fill-color);\n",
              "    }\n",
              "    80% {\n",
              "      border-color: transparent;\n",
              "      border-right-color: var(--fill-color);\n",
              "      border-bottom-color: var(--fill-color);\n",
              "    }\n",
              "    90% {\n",
              "      border-color: transparent;\n",
              "      border-bottom-color: var(--fill-color);\n",
              "    }\n",
              "  }\n",
              "</style>\n",
              "\n",
              "  <script>\n",
              "    async function quickchart(key) {\n",
              "      const quickchartButtonEl =\n",
              "        document.querySelector('#' + key + ' button');\n",
              "      quickchartButtonEl.disabled = true;  // To prevent multiple clicks.\n",
              "      quickchartButtonEl.classList.add('colab-df-spinner');\n",
              "      try {\n",
              "        const charts = await google.colab.kernel.invokeFunction(\n",
              "            'suggestCharts', [key], {});\n",
              "      } catch (error) {\n",
              "        console.error('Error during call to suggestCharts:', error);\n",
              "      }\n",
              "      quickchartButtonEl.classList.remove('colab-df-spinner');\n",
              "      quickchartButtonEl.classList.add('colab-df-quickchart-complete');\n",
              "    }\n",
              "    (() => {\n",
              "      let quickchartButtonEl =\n",
              "        document.querySelector('#df-e797d8b0-7f83-43f9-9bac-080d5cfd3e5f button');\n",
              "      quickchartButtonEl.style.display =\n",
              "        google.colab.kernel.accessAllowed ? 'block' : 'none';\n",
              "    })();\n",
              "  </script>\n",
              "</div>\n",
              "\n",
              "    </div>\n",
              "  </div>\n"
            ],
            "application/vnd.google.colaboratory.intrinsic+json": {
              "type": "dataframe",
              "variable_name": "df_ventas",
              "summary": "{\n  \"name\": \"df_ventas\",\n  \"rows\": 18,\n  \"fields\": [\n    {\n      \"column\": \"Fecha\",\n      \"properties\": {\n        \"dtype\": \"date\",\n        \"min\": \"2024-01-31 00:00:00\",\n        \"max\": \"2024-02-17 00:00:00\",\n        \"num_unique_values\": 18,\n        \"samples\": [\n          \"2024-01-31 00:00:00\",\n          \"2024-02-01 00:00:00\",\n          \"2024-02-08 00:00:00\"\n        ],\n        \"semantic_type\": \"\",\n        \"description\": \"\"\n      }\n    },\n    {\n      \"column\": \"Region\",\n      \"properties\": {\n        \"dtype\": \"category\",\n        \"num_unique_values\": 3,\n        \"samples\": [\n          \"Central\",\n          \"Este\",\n          \"Oeste\"\n        ],\n        \"semantic_type\": \"\",\n        \"description\": \"\"\n      }\n    },\n    {\n      \"column\": \"Producto\",\n      \"properties\": {\n        \"dtype\": \"category\",\n        \"num_unique_values\": 3,\n        \"samples\": [\n          \"Accesorios\",\n          \"Dispositivos\",\n          \"Sistemas\"\n        ],\n        \"semantic_type\": \"\",\n        \"description\": \"\"\n      }\n    },\n    {\n      \"column\": \"Vendedor\",\n      \"properties\": {\n        \"dtype\": \"category\",\n        \"num_unique_values\": 6,\n        \"samples\": [\n          \"David\",\n          \"Karen\",\n          \"Sara\"\n        ],\n        \"semantic_type\": \"\",\n        \"description\": \"\"\n      }\n    },\n    {\n      \"column\": \"Ventas\",\n      \"properties\": {\n        \"dtype\": \"number\",\n        \"std\": 8153,\n        \"min\": 4744,\n        \"max\": 32855,\n        \"num_unique_values\": 18,\n        \"samples\": [\n          8287,\n          6909,\n          10348\n        ],\n        \"semantic_type\": \"\",\n        \"description\": \"\"\n      }\n    }\n  ]\n}"
            }
          },
          "metadata": {},
          "execution_count": 20
        }
      ]
    },
    {
      "cell_type": "code",
      "source": [
        "#Ejercicio 1: Mostrar las primeras filas del DataFrame\n",
        "print(\"Ejercicio 1: Mostrar las primeras filas del DataFrame\")\n",
        "print(df_ventas.head(5))"
      ],
      "metadata": {
        "colab": {
          "base_uri": "https://localhost:8080/"
        },
        "id": "oM6blF5O3Y5f",
        "outputId": "04f7f900-24c0-43fb-b57a-625c75452b9a"
      },
      "execution_count": null,
      "outputs": [
        {
          "output_type": "stream",
          "name": "stdout",
          "text": [
            "Ejercicio 1: Mostrar las primeras filas del DataFrame\n",
            "       Fecha   Region      Producto Vendedor  Ventas\n",
            "0 2024-01-31  Central    Accesorios    David    8287\n",
            "1 2024-02-01  Central    Accesorios    Karen    6909\n",
            "2 2024-02-02  Central  Dispositivos    David   11420\n",
            "3 2024-02-03  Central  Dispositivos    Karen   12948\n",
            "4 2024-02-04  Central      Sistemas    David   20098\n"
          ]
        }
      ]
    },
    {
      "cell_type": "code",
      "source": [
        "#Ejecicio 2: Calcular el total de ventas por región\n",
        "print(\"Ejecicio 2: Calcular el total de ventas por region\")\n",
        "ventas_por_region = df_ventas.groupby('Region')['Ventas'].sum()\n",
        "print(ventas_por_region)\n",
        "print(\"\\n\")\n",
        "print(df_ventas.head(10))"
      ],
      "metadata": {
        "colab": {
          "base_uri": "https://localhost:8080/"
        },
        "id": "NnjPjPMw3ry3",
        "outputId": "82147c3f-050b-44a4-c960-12796ba13b3e"
      },
      "execution_count": null,
      "outputs": [
        {
          "output_type": "stream",
          "name": "stdout",
          "text": [
            "Ejecicio 2: Calcular el total de ventas por region\n",
            "Region\n",
            "Central    90295\n",
            "Este       63555\n",
            "Oeste      85683\n",
            "Name: Ventas, dtype: int64\n",
            "\n",
            "\n",
            "       Fecha   Region      Producto Vendedor  Ventas\n",
            "0 2024-01-31  Central    Accesorios    David    8287\n",
            "1 2024-02-01  Central    Accesorios    Karen    6909\n",
            "2 2024-02-02  Central  Dispositivos    David   11420\n",
            "3 2024-02-03  Central  Dispositivos    Karen   12948\n",
            "4 2024-02-04  Central      Sistemas    David   20098\n",
            "5 2024-02-05  Central      Sistemas    Karen   30633\n",
            "6 2024-02-06     Este    Accesorios      Ana    9323\n",
            "7 2024-02-07     Este    Accesorios    Lucas    7667\n",
            "8 2024-02-08     Este  Dispositivos      Ana   10348\n",
            "9 2024-02-09     Este  Dispositivos    Lucas    9312\n"
          ]
        }
      ]
    },
    {
      "cell_type": "code",
      "source": [
        "#Ejecricio 3: Filtar el dataFrame para mostrar solo las ventas realizadas por David\n",
        "print(\"Ejecricio 3: Filtar el dataFrame para mostrar solo las ventas realizadas por David\")\n",
        "ventas_david= df_ventas[df_ventas['Ventas'] == 'David']\n",
        "print(ventas_david)"
      ],
      "metadata": {
        "colab": {
          "base_uri": "https://localhost:8080/"
        },
        "id": "3CX2Z7Ex4XJ_",
        "outputId": "0250393d-7e82-404d-fb97-269d51812214"
      },
      "execution_count": null,
      "outputs": [
        {
          "output_type": "stream",
          "name": "stdout",
          "text": [
            "Ejecricio 3: Filtar el dataFrame para mostrar solo las ventas realizadas por David\n",
            "Empty DataFrame\n",
            "Columns: [Fecha, Region, Producto, Vendedor, Ventas]\n",
            "Index: []\n"
          ]
        }
      ]
    },
    {
      "cell_type": "code",
      "source": [
        "#Ejercicio 4: Calcular el promedio de ventas por región\n",
        "print(\"Ejercicio 4: Calcular el rpomedio de ventas por región\")\n",
        "ventas_por_producto = df.groupby('Region')['Ventas'].mean()\n",
        "print(ventas_por_producto)"
      ],
      "metadata": {
        "colab": {
          "base_uri": "https://localhost:8080/"
        },
        "id": "8MYgQKLQ5Dff",
        "outputId": "4b636175-f569-450b-d37b-01c1a949d34f"
      },
      "execution_count": null,
      "outputs": [
        {
          "output_type": "stream",
          "name": "stdout",
          "text": [
            "Ejercicio 4: Calcular el rpomedio de ventas por región\n",
            "Region\n",
            "Central    15049.166667\n",
            "Este       10592.500000\n",
            "Oeste      14280.500000\n",
            "Name: Ventas, dtype: float64\n"
          ]
        }
      ]
    },
    {
      "cell_type": "code",
      "source": [
        "#Ejercicio 5: Calcular el promedio de ventas por región con dos decimales\n",
        "print(\"Ejecricio 5: Calcular el promedio de ventas por región con dos decimales\")\n",
        "ventas_por_producto = df.groupby('Region')['Ventas'].mean().round(2)\n",
        "print(ventas_por_producto)"
      ],
      "metadata": {
        "colab": {
          "base_uri": "https://localhost:8080/"
        },
        "id": "SYq8drbV5REr",
        "outputId": "9874b60a-b99c-4468-b5cc-aa1aaad1b738"
      },
      "execution_count": null,
      "outputs": [
        {
          "output_type": "stream",
          "name": "stdout",
          "text": [
            "Ejecricio 5: Calcular el promedio de venatas por región con dos decimales\n",
            "Region\n",
            "Central    15049.17\n",
            "Este       10592.50\n",
            "Oeste      14280.50\n",
            "Name: Ventas, dtype: float64\n"
          ]
        }
      ]
    },
    {
      "cell_type": "code",
      "source": [
        "#Ejercicio 6: Ordenar el DataFrame por ventas en orden descendente\n",
        "print(\"Ejercicio 6: Ordenar el DataFrame por ventas en orden descendente\")\n",
        "df_ordenado = df.sort_values(by='Ventas', ascending=False)\n",
        "print(df_ordenado)"
      ],
      "metadata": {
        "colab": {
          "base_uri": "https://localhost:8080/"
        },
        "id": "P7M1S34q6uHJ",
        "outputId": "0bda47b1-d467-4bd1-c713-19e2384239c0"
      },
      "execution_count": null,
      "outputs": [
        {
          "output_type": "stream",
          "name": "stdout",
          "text": [
            "Ejercicio 6: Ordenar el DataFrame por ventas en orden descendente\n",
            "        Fecha   Region      Producto Vendedor  Ventas\n",
            "16 2024-02-16    Oeste      Sistemas    Kevin   32855\n",
            "5  2024-02-05  Central      Sistemas    Karen   30633\n",
            "17 2024-02-17    Oeste      Sistemas     Sara   23151\n",
            "4  2024-02-04  Central      Sistemas    David   20098\n",
            "10 2024-02-10     Este      Sistemas      Ana   13531\n",
            "11 2024-02-11     Este      Sistemas    Lucas   13374\n",
            "3  2024-02-03  Central  Dispositivos    Karen   12948\n",
            "2  2024-02-02  Central  Dispositivos    David   11420\n",
            "14 2024-02-14    Oeste  Dispositivos    Kevin   10711\n",
            "8  2024-02-08     Este  Dispositivos      Ana   10348\n",
            "6  2024-02-06     Este    Accesorios      Ana    9323\n",
            "9  2024-02-09     Este  Dispositivos    Lucas    9312\n",
            "15 2024-02-15    Oeste  Dispositivos     Sara    8780\n",
            "0  2024-01-31  Central    Accesorios    David    8287\n",
            "7  2024-02-07     Este    Accesorios    Lucas    7667\n",
            "1  2024-02-01  Central    Accesorios    Karen    6909\n",
            "13 2024-02-13    Oeste    Accesorios     Sara    5442\n",
            "12 2024-02-12    Oeste    Accesorios    Kevin    4744\n"
          ]
        }
      ]
    },
    {
      "cell_type": "code",
      "source": [
        "#Ejercicio 7: Filtar las filas con ventas mayores a 10000 y ordenar de mayor a menor\n",
        "print(\"Ejercicio 7: Filtar las filas con ventas mayores a 10000 y ordenar de mayor a menor\")\n",
        "df_filtrado = df_ventas.sort_values(by='Ventas', ascending=True)\n",
        "print(df_filtrado)\n",
        "print(\"\\n\")"
      ],
      "metadata": {
        "colab": {
          "base_uri": "https://localhost:8080/"
        },
        "id": "_pxlVnzL7hb2",
        "outputId": "72f908c9-7cef-492b-ae27-c64d1bdd990e"
      },
      "execution_count": null,
      "outputs": [
        {
          "output_type": "stream",
          "name": "stdout",
          "text": [
            "Ejercicio 7: Filtar las filas con ventas mayores a 10000 y ordenar de mayo a menor\n",
            "        Fecha   Region      Producto Vendedor  Ventas\n",
            "12 2024-02-12    Oeste    Accesorios    Kevin    4744\n",
            "13 2024-02-13    Oeste    Accesorios     Sara    5442\n",
            "1  2024-02-01  Central    Accesorios    Karen    6909\n",
            "7  2024-02-07     Este    Accesorios    Lucas    7667\n",
            "0  2024-01-31  Central    Accesorios    David    8287\n",
            "15 2024-02-15    Oeste  Dispositivos     Sara    8780\n",
            "9  2024-02-09     Este  Dispositivos    Lucas    9312\n",
            "6  2024-02-06     Este    Accesorios      Ana    9323\n",
            "8  2024-02-08     Este  Dispositivos      Ana   10348\n",
            "14 2024-02-14    Oeste  Dispositivos    Kevin   10711\n",
            "2  2024-02-02  Central  Dispositivos    David   11420\n",
            "3  2024-02-03  Central  Dispositivos    Karen   12948\n",
            "11 2024-02-11     Este      Sistemas    Lucas   13374\n",
            "10 2024-02-10     Este      Sistemas      Ana   13531\n",
            "4  2024-02-04  Central      Sistemas    David   20098\n",
            "17 2024-02-17    Oeste      Sistemas     Sara   23151\n",
            "5  2024-02-05  Central      Sistemas    Karen   30633\n",
            "16 2024-02-16    Oeste      Sistemas    Kevin   32855\n",
            "\n",
            "\n"
          ]
        }
      ]
    },
    {
      "cell_type": "code",
      "source": [
        "#Ejercicio 8: Crear una columna y calcular una comisión del 2% para el vendedor\n",
        "print(\"Ejercicio 8: Crear una columna y calcular una comisión del 2% para el vendedor\")\n",
        "comision = 0.02\n",
        "df_comision= df_ventas.copy()\n",
        "df_comision['Comision Venta']  = df_comision['Ventas']*comision\n",
        "print(df_comision)"
      ],
      "metadata": {
        "colab": {
          "base_uri": "https://localhost:8080/"
        },
        "id": "jKvEuCmg6nOa",
        "outputId": "c03180b3-6b81-40c3-87a6-049fba6626aa"
      },
      "execution_count": 7,
      "outputs": [
        {
          "output_type": "stream",
          "name": "stdout",
          "text": [
            "Ejercicio 8: Crear una columna y calcular una comisión del 2% para el vendedor\n",
            "        Fecha   Region      Producto Vendedor  Ventas  Comision Venta\n",
            "0  2024-01-31  Central    Accesorios    David    8287          165.74\n",
            "1  2024-02-01  Central    Accesorios    Karen    6909          138.18\n",
            "2  2024-02-02  Central  Dispositivos    David   11420          228.40\n",
            "3  2024-02-03  Central  Dispositivos    Karen   12948          258.96\n",
            "4  2024-02-04  Central      Sistemas    David   20098          401.96\n",
            "5  2024-02-05  Central      Sistemas    Karen   30633          612.66\n",
            "6  2024-02-06     Este    Accesorios      Ana    9323          186.46\n",
            "7  2024-02-07     Este    Accesorios    Lucas    7667          153.34\n",
            "8  2024-02-08     Este  Dispositivos      Ana   10348          206.96\n",
            "9  2024-02-09     Este  Dispositivos    Lucas    9312          186.24\n",
            "10 2024-02-10     Este      Sistemas      Ana   13531          270.62\n",
            "11 2024-02-11     Este      Sistemas    Lucas   13374          267.48\n",
            "12 2024-02-12    Oeste    Accesorios    Kevin    4744           94.88\n",
            "13 2024-02-13    Oeste    Accesorios     Sara    5442          108.84\n",
            "14 2024-02-14    Oeste  Dispositivos    Kevin   10711          214.22\n",
            "15 2024-02-15    Oeste  Dispositivos     Sara    8780          175.60\n",
            "16 2024-02-16    Oeste      Sistemas    Kevin   32855          657.10\n",
            "17 2024-02-17    Oeste      Sistemas     Sara   23151          463.02\n"
          ]
        }
      ]
    },
    {
      "cell_type": "code",
      "source": [
        "#Ejercicio 9: Eliminar la columna \"Vendedor\"\n",
        "print(\"Ejercicio 9: Eliminar la columna Vendedor\")\n",
        "df_sin_vendedor = df_ventas.drop(columns=['Vendedor'])\n",
        "print(df_sin_vendedor)\n",
        "print(\"\\n\")"
      ],
      "metadata": {
        "colab": {
          "base_uri": "https://localhost:8080/"
        },
        "id": "rKCncpz18kNr",
        "outputId": "aaff6302-f59c-4226-8e68-b4024adf382d"
      },
      "execution_count": null,
      "outputs": [
        {
          "output_type": "stream",
          "name": "stdout",
          "text": [
            "Ejercicio 9: Eliminar la columna Vendedor\n",
            "        Fecha   Region      Producto  Ventas\n",
            "0  2024-01-31  Central    Accesorios    8287\n",
            "1  2024-02-01  Central    Accesorios    6909\n",
            "2  2024-02-02  Central  Dispositivos   11420\n",
            "3  2024-02-03  Central  Dispositivos   12948\n",
            "4  2024-02-04  Central      Sistemas   20098\n",
            "5  2024-02-05  Central      Sistemas   30633\n",
            "6  2024-02-06     Este    Accesorios    9323\n",
            "7  2024-02-07     Este    Accesorios    7667\n",
            "8  2024-02-08     Este  Dispositivos   10348\n",
            "9  2024-02-09     Este  Dispositivos    9312\n",
            "10 2024-02-10     Este      Sistemas   13531\n",
            "11 2024-02-11     Este      Sistemas   13374\n",
            "12 2024-02-12    Oeste    Accesorios    4744\n",
            "13 2024-02-13    Oeste    Accesorios    5442\n",
            "14 2024-02-14    Oeste  Dispositivos   10711\n",
            "15 2024-02-15    Oeste  Dispositivos    8780\n",
            "16 2024-02-16    Oeste      Sistemas   32855\n",
            "17 2024-02-17    Oeste      Sistemas   23151\n",
            "\n",
            "\n"
          ]
        }
      ]
    }
  ]
}